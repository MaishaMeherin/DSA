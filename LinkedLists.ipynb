{
 "cells": [
  {
   "cell_type": "code",
   "execution_count": 56,
   "metadata": {},
   "outputs": [],
   "source": [
    "#Designing a Node class\n",
    "class Node:\n",
    "    def __init__(self, elem, next):\n",
    "        self.elem = elem\n",
    "        self.next = next"
   ]
  },
  {
   "cell_type": "code",
   "execution_count": 57,
   "metadata": {},
   "outputs": [
    {
     "name": "stdout",
     "output_type": "stream",
     "text": [
      "<__main__.Node object at 0x106fca910>\n"
     ]
    }
   ],
   "source": [
    "#Creation of Linked List\n",
    "def create_linked_list(arr):\n",
    "    head = Node(arr[0], None)\n",
    "    tail = head\n",
    "    for i in range(1, len(arr)):\n",
    "        n = Node(arr[i], None)\n",
    "        tail.next = n\n",
    "        tail = tail.next\n",
    "    return head\n",
    "arr = [1, 2, 3, 4, 5]\n",
    "print(create_linked_list(arr))"
   ]
  },
  {
   "cell_type": "code",
   "execution_count": 58,
   "metadata": {},
   "outputs": [
    {
     "name": "stdout",
     "output_type": "stream",
     "text": [
      "1\n",
      "2\n",
      "3\n",
      "4\n",
      "5\n"
     ]
    }
   ],
   "source": [
    "#Iterating through the linked list\n",
    "def iteration(head):\n",
    "    temp = head\n",
    "    while temp != None:\n",
    "        print(temp.elem)\n",
    "        temp = temp.next\n",
    "iteration(create_linked_list(arr))"
   ]
  },
  {
   "cell_type": "code",
   "execution_count": 59,
   "metadata": {},
   "outputs": [
    {
     "name": "stdout",
     "output_type": "stream",
     "text": [
      "1->2->3->4->5\n"
     ]
    }
   ],
   "source": [
    "#Displaying the linked list\n",
    "def display(head):\n",
    "    temp = head\n",
    "    elements = []\n",
    "    while temp:\n",
    "        elements.append(str(temp.elem))\n",
    "        temp = temp.next\n",
    "    print(\"->\".join(elements))\n",
    "display(create_linked_list(arr))"
   ]
  },
  {
   "cell_type": "code",
   "execution_count": 60,
   "metadata": {},
   "outputs": [
    {
     "name": "stdout",
     "output_type": "stream",
     "text": [
      "5\n"
     ]
    }
   ],
   "source": [
    "#Couting number of elements in the linked list\n",
    "def count(head):\n",
    "    temp = head\n",
    "    count = 0\n",
    "    while temp:\n",
    "        count += 1\n",
    "        temp = temp.next\n",
    "    return count\n",
    "print(count(create_linked_list(arr)))"
   ]
  },
  {
   "cell_type": "code",
   "execution_count": 61,
   "metadata": {},
   "outputs": [
    {
     "name": "stdout",
     "output_type": "stream",
     "text": [
      "3\n"
     ]
    }
   ],
   "source": [
    "#Retrieving for an element at a given index in the linked list\n",
    "def elemAt(head, index):\n",
    "    temp = head\n",
    "    count = 0\n",
    "    while temp:\n",
    "        if count == index:\n",
    "            return temp.elem\n",
    "        count += 1\n",
    "        temp = temp.next\n",
    "    return -1\n",
    "print(elemAt(create_linked_list(arr), 2))"
   ]
  },
  {
   "cell_type": "code",
   "execution_count": 62,
   "metadata": {},
   "outputs": [
    {
     "name": "stdout",
     "output_type": "stream",
     "text": [
      "<__main__.Node object at 0x10702b650>\n"
     ]
    }
   ],
   "source": [
    "#Retrieving for an Node at a given index in the linked list\n",
    "def nodeAt(head, index):\n",
    "    temp = head\n",
    "    count = 0\n",
    "    while temp:\n",
    "        if count == index:\n",
    "            return temp\n",
    "        count += 1\n",
    "        temp = temp.next\n",
    "    return -1\n",
    "print(nodeAt(create_linked_list(arr), 2))"
   ]
  },
  {
   "cell_type": "code",
   "execution_count": 63,
   "metadata": {},
   "outputs": [
    {
     "name": "stdout",
     "output_type": "stream",
     "text": [
      "1->2->10->4->5\n"
     ]
    }
   ],
   "source": [
    "#Update the value of an element at a given index in the linked list\n",
    "def setValue(head, index, value):\n",
    "    temp = head\n",
    "    count = 0\n",
    "    while temp: \n",
    "        if count == index:\n",
    "            temp.elem = value\n",
    "        temp = temp.next\n",
    "        count +=1\n",
    "    return head\n",
    "display(setValue(create_linked_list(arr), 2, 10))"
   ]
  },
  {
   "cell_type": "code",
   "execution_count": 64,
   "metadata": {},
   "outputs": [
    {
     "name": "stdout",
     "output_type": "stream",
     "text": [
      "2\n"
     ]
    }
   ],
   "source": [
    "#Get index of an element in the linked list\n",
    "def indexOf(head, elem):\n",
    "    temp = head\n",
    "    count = 0\n",
    "    while temp:\n",
    "        if temp.elem == elem:\n",
    "            return count\n",
    "        count += 1\n",
    "        temp = temp.next\n",
    "    return -1\n",
    "print(indexOf(create_linked_list(arr), 3))"
   ]
  },
  {
   "cell_type": "code",
   "execution_count": 65,
   "metadata": {},
   "outputs": [
    {
     "name": "stdout",
     "output_type": "stream",
     "text": [
      "1->2->8->3->4->5\n"
     ]
    }
   ],
   "source": [
    "#Inserting an element in the Linked List\n",
    "def insert(head, elem, index):\n",
    "    total_nodes = count(head)\n",
    "    if index == 0:\n",
    "        n = Node(elem, head)\n",
    "        head = n\n",
    "    elif 0 < index and index < total_nodes:\n",
    "        n = Node(elem, head)\n",
    "        n1 = nodeAt(head, index -1)\n",
    "        n2 = nodeAt(head, index)\n",
    "        n.next = n2\n",
    "        n1.next = n\n",
    "    elif index == total_nodes:\n",
    "        n = Node(elem, head)\n",
    "        n1 = nodeAt(head, index-1)\n",
    "        n1.next = n\n",
    "    return head\n",
    "display(insert(create_linked_list(arr), 8, 2))"
   ]
  },
  {
   "cell_type": "code",
   "execution_count": 66,
   "metadata": {},
   "outputs": [
    {
     "name": "stdout",
     "output_type": "stream",
     "text": [
      "1->2->4->5\n"
     ]
    }
   ],
   "source": [
    "#Removing an element from the Linked List\n",
    "def remove_element(head, index):\n",
    "    if index == 0:\n",
    "        head = head.next\n",
    "    elif index > 0 and index <= count(head):\n",
    "        n1 = nodeAt(head, index-1)\n",
    "        n1.next = n1.next.next\n",
    "    else:\n",
    "        print(\"Invalid index\")\n",
    "    return head\n",
    "display(remove_element(create_linked_list(arr), 2))"
   ]
  },
  {
   "cell_type": "code",
   "execution_count": 67,
   "metadata": {},
   "outputs": [
    {
     "name": "stdout",
     "output_type": "stream",
     "text": [
      "5->4->3->2->1\n"
     ]
    }
   ],
   "source": [
    "#Reverse Out-of-place a Linked List\n",
    "def rev_out_of_place(head):\n",
    "    new_head = Node(head.elem, None)\n",
    "    temp = head.next\n",
    "    while temp:\n",
    "        n = Node(temp.elem, new_head)\n",
    "        new_head = n\n",
    "        temp = temp.next\n",
    "    return new_head\n",
    "display(rev_out_of_place(create_linked_list(arr)))"
   ]
  },
  {
   "cell_type": "code",
   "execution_count": 69,
   "metadata": {},
   "outputs": [
    {
     "name": "stdout",
     "output_type": "stream",
     "text": [
      "5->4->3->2->1\n"
     ]
    }
   ],
   "source": [
    "#Reverse In-Place a Linked List\n",
    "def rev_in_place(head):\n",
    "    prev = None\n",
    "    curr = head\n",
    "    while curr:\n",
    "        next_node = curr.next\n",
    "        curr.next = prev\n",
    "        prev = curr\n",
    "        curr = next_node\n",
    "    return prev\n",
    "display(rev_in_place(create_linked_list(arr)))"
   ]
  },
  {
   "cell_type": "code",
   "execution_count": 70,
   "metadata": {},
   "outputs": [
    {
     "name": "stdout",
     "output_type": "stream",
     "text": [
      "2->3->4->5->1\n"
     ]
    }
   ],
   "source": [
    "#Rotating a Linked Lists Left\n",
    "def rotate_left(head):\n",
    "    new_head = head.next\n",
    "    temp = new_head\n",
    "    while temp.next:\n",
    "        temp = temp.next\n",
    "    temp.next = head\n",
    "    head.next = None\n",
    "    return new_head\n",
    "display(rotate_left(create_linked_list(arr)))    "
   ]
  },
  {
   "cell_type": "code",
   "execution_count": 71,
   "metadata": {},
   "outputs": [
    {
     "name": "stdout",
     "output_type": "stream",
     "text": [
      "5->1->2->3->4\n"
     ]
    }
   ],
   "source": [
    "#Rotating a Linked list Right\n",
    "def rotate_right(head):\n",
    "    last_node = head.next\n",
    "    second_last = head\n",
    "    while last_node.next:\n",
    "        last_node = last_node.next\n",
    "        second_last = second_last.next\n",
    "    last_node.next = head\n",
    "    second_last.next = None\n",
    "    head = last_node\n",
    "    return head\n",
    "display(rotate_right(create_linked_list(arr)))    "
   ]
  }
 ],
 "metadata": {
  "kernelspec": {
   "display_name": "Python 3",
   "language": "python",
   "name": "python3"
  },
  "language_info": {
   "codemirror_mode": {
    "name": "ipython",
    "version": 3
   },
   "file_extension": ".py",
   "mimetype": "text/x-python",
   "name": "python",
   "nbconvert_exporter": "python",
   "pygments_lexer": "ipython3",
   "version": "3.11.1"
  },
  "orig_nbformat": 4,
  "vscode": {
   "interpreter": {
    "hash": "aee8b7b246df8f9039afb4144a1f6fd8d2ca17a180786b69acc140d282b71a49"
   }
  }
 },
 "nbformat": 4,
 "nbformat_minor": 2
}
