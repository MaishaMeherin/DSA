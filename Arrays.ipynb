{
 "cells": [
  {
   "cell_type": "code",
   "execution_count": 1,
   "metadata": {},
   "outputs": [
    {
     "name": "stdout",
     "output_type": "stream",
     "text": [
      "1\n",
      "2\n",
      "3\n",
      "4\n"
     ]
    }
   ],
   "source": [
    "def iteration(arr):\n",
    "    for i in range(len(arr)):\n",
    "        print(arr[i])\n",
    "arr = [1,2,3,4]\n",
    "iteration(arr)"
   ]
  },
  {
   "cell_type": "code",
   "execution_count": 4,
   "metadata": {},
   "outputs": [
    {
     "name": "stdout",
     "output_type": "stream",
     "text": [
      "4\n",
      "3\n",
      "2\n",
      "1\n"
     ]
    }
   ],
   "source": [
    "def reverse_iteration(arr):\n",
    "    for i in range(len(arr)-1, -1,-1):\n",
    "        print(arr[i])\n",
    "arr = [1,2,3,4]\n",
    "reverse_iteration(arr)"
   ]
  },
  {
   "cell_type": "code",
   "execution_count": 6,
   "metadata": {},
   "outputs": [
    {
     "data": {
      "text/plain": [
       "[4, 3, 2, 1]"
      ]
     },
     "execution_count": 6,
     "metadata": {},
     "output_type": "execute_result"
    }
   ],
   "source": [
    "def reverse_out_of_place(arr):\n",
    "    new_arr = [None] * len(arr)\n",
    "    i = 0\n",
    "    j = len(arr)-1\n",
    "    while i < len(arr):\n",
    "        new_arr[i] = arr[j]\n",
    "        i +=1\n",
    "        j -=1 \n",
    "    return new_arr\n",
    "arr = [1,2,3,4]\n",
    "reverse_out_of_place(arr)    "
   ]
  },
  {
   "cell_type": "code",
   "execution_count": 7,
   "metadata": {},
   "outputs": [
    {
     "data": {
      "text/plain": [
       "[4, 3, 2, 1]"
      ]
     },
     "execution_count": 7,
     "metadata": {},
     "output_type": "execute_result"
    }
   ],
   "source": [
    "def reverse_in_place(arr):\n",
    "    i = 0\n",
    "    j = len(arr) - 1\n",
    "    while i < j:\n",
    "        arr[i] , arr[j] = arr[j], arr[i]\n",
    "        i += 1\n",
    "        j -= 1\n",
    "    return arr\n",
    "arr = [1,2,3,4]\n",
    "reverse_in_place(arr)"
   ]
  },
  {
   "cell_type": "code",
   "execution_count": 11,
   "metadata": {},
   "outputs": [
    {
     "name": "stdout",
     "output_type": "stream",
     "text": [
      "[2, 3, 4, 5, None]\n"
     ]
    }
   ],
   "source": [
    "#Shifting an Array Left\n",
    "def shift_left(arr):\n",
    "    for i in range(1, len(arr)):\n",
    "        arr[i-1] = arr[i]\n",
    "    arr[len(arr)-1] = None\n",
    "    return arr\n",
    "arr = [1, 2, 3, 4, 5]\n",
    "print(shift_left(arr))  # Output: [2, 3, 4, 5, None]"
   ]
  },
  {
   "cell_type": "code",
   "execution_count": 12,
   "metadata": {},
   "outputs": [
    {
     "name": "stdout",
     "output_type": "stream",
     "text": [
      "[None, 1, 2, 3, 4]\n"
     ]
    }
   ],
   "source": [
    "#Shifting an Array Right\n",
    "def shift_array_right(arr):\n",
    "    for i in range(len(arr)-1, 0, -1):\n",
    "        arr[i] = arr[i-1]\n",
    "    arr[0] = None\n",
    "    return arr\n",
    "arr = [1,2,3,4,5]\n",
    "print(shift_array_right(arr))"
   ]
  },
  {
   "cell_type": "code",
   "execution_count": null,
   "metadata": {},
   "outputs": [],
   "source": [
    "#Rotating an Array Left\n",
    "def rotate_left(arr):\n",
    "    #return [arr[-1]] + arr[:-1] <- This is the same as the below solution\n",
    "    temp = arr[0]\n",
    "    for i in range(1, len(arr)):\n",
    "        arr[i-1] = arr[i]\n",
    "    arr[len(arr)-1] = temp\n",
    "    return arr\n",
    "arr = [1,2,3,4,5]\n",
    "print(rotate_left(arr))"
   ]
  },
  {
   "cell_type": "code",
   "execution_count": null,
   "metadata": {},
   "outputs": [],
   "source": [
    "#Rotate an Array Right\n",
    "def rotate_right(arr):\n",
    "    temp = arr[len(arr)-1]\n",
    "    for i in range(len(arr)-1, 0, -1):\n",
    "        arr[i] = arr[i-1]\n",
    "    arr[0] = temp\n",
    "    return arr\n",
    "arr = [1,2,3,4,5]\n",
    "print(rotate_left(arr))"
   ]
  },
  {
   "cell_type": "code",
   "execution_count": 14,
   "metadata": {},
   "outputs": [
    {
     "data": {
      "text/plain": [
       "[5, 6, 7, 1, 2, 3, 4]"
      ]
     },
     "execution_count": 14,
     "metadata": {},
     "output_type": "execute_result"
    }
   ],
   "source": [
    "#Leetcode 189: Rotate Array-> Rotate an array right by k steps\n",
    "#[1,2,3,4,5,6,7]->[5,6,7,1,2,3,4]\n",
    "def rotateRightByKSteps(arr, k):\n",
    "    k = k % len(arr) #if k is larger than the array length, we only need to rotate k % len(arr) steps\n",
    "    \n",
    "    #reverse the array-> [7,6,5,4,3,2,1] \n",
    "    i, j = 0, len(arr)-1\n",
    "    reverseInPlace(arr, i, j)\n",
    "        \n",
    "    #reverse till kth index->[5,6,7,4,3,2,1]\n",
    "    i , j = 0, k-1\n",
    "    reverseInPlace(arr, i, j)\n",
    "    \n",
    "    #reverse from k to length->[5,6,7,1,2,3,4]\n",
    "    i, j = k, len(arr)-1\n",
    "    reverseInPlace(arr, i, j)\n",
    "    \n",
    "    return arr\n",
    "    \n",
    "def reverseInPlace(arr, i, j):\n",
    "    while i < j:\n",
    "        arr[i], arr[j] = arr[j], arr[i]\n",
    "        i += 1\n",
    "        j -= 1 \n",
    "\n",
    "arr = [1,2,3,4,5,6,7]\n",
    "rotateRightByKSteps(arr, 3)"
   ]
  },
  {
   "cell_type": "code",
   "execution_count": 22,
   "metadata": {},
   "outputs": [
    {
     "data": {
      "text/plain": [
       "[1, 2, 3, 4, 5, None, None, None]"
      ]
     },
     "execution_count": 22,
     "metadata": {},
     "output_type": "execute_result"
    }
   ],
   "source": [
    "#Inserting an element into an Array-> python's insert function arr.insert(elem, index)\n",
    "##right shift from the index given, then insert the element\n",
    "def insertElement(arr, size, elem, index):\n",
    "    if index < 0 or index > size:\n",
    "        print(\"Invalid index\")\n",
    "    temp = arr[len(arr)-1]\n",
    "    for i in range(len(arr)-1, index-1, -1):\n",
    "        arr[i] = arr[i-1]\n",
    "    arr[index] = elem\n",
    "    arr[len(arr)-1] = temp\n",
    "    return arr\n",
    "arr = [1,3,4,5,None,None,None,None]\n",
    "insertElement(arr, len(arr), 2, 1)"
   ]
  },
  {
   "cell_type": "code",
   "execution_count": 23,
   "metadata": {},
   "outputs": [
    {
     "data": {
      "text/plain": [
       "[1, 2, 4, 5, None]"
      ]
     },
     "execution_count": 23,
     "metadata": {},
     "output_type": "execute_result"
    }
   ],
   "source": [
    "#Removing an element from an Array\n",
    "def removeElement(arr,size,index):\n",
    "    if index < 0 or index >= size:\n",
    "        return \"Invalid index\"\n",
    "    for i in range(index+1, size):\n",
    "        arr[i-1] = arr[i]\n",
    "    arr[size-1] = None\n",
    "    return arr\n",
    "arr = [1,2,3,4,5]\n",
    "removeElement(arr, len(arr), 2)"
   ]
  }
 ],
 "metadata": {
  "kernelspec": {
   "display_name": "Python 3",
   "language": "python",
   "name": "python3"
  },
  "language_info": {
   "codemirror_mode": {
    "name": "ipython",
    "version": 3
   },
   "file_extension": ".py",
   "mimetype": "text/x-python",
   "name": "python",
   "nbconvert_exporter": "python",
   "pygments_lexer": "ipython3",
   "version": "3.11.1"
  },
  "orig_nbformat": 4,
  "vscode": {
   "interpreter": {
    "hash": "aee8b7b246df8f9039afb4144a1f6fd8d2ca17a180786b69acc140d282b71a49"
   }
  }
 },
 "nbformat": 4,
 "nbformat_minor": 2
}
